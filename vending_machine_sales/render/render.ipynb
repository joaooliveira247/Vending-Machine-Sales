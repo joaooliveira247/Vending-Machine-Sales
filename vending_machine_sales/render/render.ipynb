{
 "cells": [
  {
   "cell_type": "code",
   "execution_count": null,
   "metadata": {},
   "outputs": [],
   "source": []
  }
 ],
 "metadata": {
  "kernelspec": {
   "display_name": "vending-machine-sales-vZCEgeR6-py3.10",
   "language": "python",
   "name": "python3"
  },
  "language_info": {
   "name": "python",
   "version": "3.10.6"
  },
  "orig_nbformat": 4,
  "vscode": {
   "interpreter": {
    "hash": "50e4564adf1a7658616d0dd1a6b2b0897c69f3e8f8c0b31e4be3264fe9ba57b7"
   }
  }
 },
 "nbformat": 4,
 "nbformat_minor": 2
}
